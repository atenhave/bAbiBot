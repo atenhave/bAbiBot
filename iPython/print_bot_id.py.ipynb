{
 "cells": [
  {
   "cell_type": "code",
   "execution_count": 1,
   "metadata": {
    "collapsed": true
   },
   "outputs": [],
   "source": [
    "import os\n",
    "from slackclient import SlackClient"
   ]
  },
  {
   "cell_type": "code",
   "execution_count": 2,
   "metadata": {
    "collapsed": true
   },
   "outputs": [],
   "source": [
    "botname = 'bAbIbot'"
   ]
  },
  {
   "cell_type": "code",
   "execution_count": 3,
   "metadata": {
    "collapsed": true
   },
   "outputs": [],
   "source": [
    "slack_client = SlackClient(os.environ.get('SLACK_BOT_TOKEN'))"
   ]
  },
  {
   "cell_type": "code",
   "execution_count": 8,
   "metadata": {
    "collapsed": false
   },
   "outputs": [
    {
     "name": "stdout",
     "output_type": "stream",
     "text": [
      "yes\n",
      "[{'id': 'U5XR9MEKY', 'team_id': 'T5XR9MEK0', 'name': 'atenhave1', 'deleted': False, 'color': '9f69e7', 'real_name': 'Anna Ten Have', 'tz': 'Africa/Harare', 'tz_label': 'Central Africa Time', 'tz_offset': 7200, 'profile': {'first_name': 'Anna', 'last_name': 'Ten Have', 'avatar_hash': 'gb7a70bf5f34', 'real_name': 'Anna Ten Have', 'real_name_normalized': 'Anna Ten Have', 'email': 'atenhave1@gmail.com', 'image_24': 'https://secure.gravatar.com/avatar/b7a70bf5f347f6b9e135961f1220e7fc.jpg?s=24&d=https%3A%2F%2Fa.slack-edge.com%2F66f9%2Fimg%2Favatars%2Fava_0002-24.png', 'image_32': 'https://secure.gravatar.com/avatar/b7a70bf5f347f6b9e135961f1220e7fc.jpg?s=32&d=https%3A%2F%2Fa.slack-edge.com%2F0180%2Fimg%2Favatars%2Fava_0002-32.png', 'image_48': 'https://secure.gravatar.com/avatar/b7a70bf5f347f6b9e135961f1220e7fc.jpg?s=48&d=https%3A%2F%2Fa.slack-edge.com%2F66f9%2Fimg%2Favatars%2Fava_0002-48.png', 'image_72': 'https://secure.gravatar.com/avatar/b7a70bf5f347f6b9e135961f1220e7fc.jpg?s=72&d=https%3A%2F%2Fa.slack-edge.com%2F66f9%2Fimg%2Favatars%2Fava_0002-72.png', 'image_192': 'https://secure.gravatar.com/avatar/b7a70bf5f347f6b9e135961f1220e7fc.jpg?s=192&d=https%3A%2F%2Fa.slack-edge.com%2F7fa9%2Fimg%2Favatars%2Fava_0002-192.png', 'image_512': 'https://secure.gravatar.com/avatar/b7a70bf5f347f6b9e135961f1220e7fc.jpg?s=512&d=https%3A%2F%2Fa.slack-edge.com%2F7fa9%2Fimg%2Favatars%2Fava_0002-512.png'}, 'is_admin': True, 'is_owner': True, 'is_primary_owner': True, 'is_restricted': False, 'is_ultra_restricted': False, 'is_bot': False, 'updated': 1498028657}, {'id': 'U5WBCMR88', 'team_id': 'T5XR9MEK0', 'name': 'babibot', 'deleted': False, 'color': '4bbe2e', 'real_name': 'bAbIbot', 'tz': None, 'tz_label': 'Pacific Daylight Time', 'tz_offset': -25200, 'profile': {'bot_id': 'B5X30FYDA', 'api_app_id': 'A5X2TFNQ4', 'always_active': False, 'first_name': 'bAbIbot', 'avatar_hash': 'gb9be51bf8c5', 'real_name': 'bAbIbot', 'real_name_normalized': 'bAbIbot', 'image_24': 'https://secure.gravatar.com/avatar/b9be51bf8c5f78afe8b9b57ddaa98397.jpg?s=24&d=https%3A%2F%2Fa.slack-edge.com%2F66f9%2Fimg%2Favatars%2Fava_0020-24.png', 'image_32': 'https://secure.gravatar.com/avatar/b9be51bf8c5f78afe8b9b57ddaa98397.jpg?s=32&d=https%3A%2F%2Fa.slack-edge.com%2F0180%2Fimg%2Favatars%2Fava_0020-32.png', 'image_48': 'https://secure.gravatar.com/avatar/b9be51bf8c5f78afe8b9b57ddaa98397.jpg?s=48&d=https%3A%2F%2Fa.slack-edge.com%2F66f9%2Fimg%2Favatars%2Fava_0020-48.png', 'image_72': 'https://secure.gravatar.com/avatar/b9be51bf8c5f78afe8b9b57ddaa98397.jpg?s=72&d=https%3A%2F%2Fa.slack-edge.com%2F66f9%2Fimg%2Favatars%2Fava_0020-72.png', 'image_192': 'https://secure.gravatar.com/avatar/b9be51bf8c5f78afe8b9b57ddaa98397.jpg?s=192&d=https%3A%2F%2Fa.slack-edge.com%2F7fa9%2Fimg%2Favatars%2Fava_0020-192.png', 'image_512': 'https://secure.gravatar.com/avatar/b9be51bf8c5f78afe8b9b57ddaa98397.jpg?s=512&d=https%3A%2F%2Fa.slack-edge.com%2F7fa9%2Fimg%2Favatars%2Fava_0020-512.png'}, 'is_admin': False, 'is_owner': False, 'is_primary_owner': False, 'is_restricted': False, 'is_ultra_restricted': False, 'is_bot': True, 'updated': 1498029881}, {'id': 'USLACKBOT', 'team_id': 'T5XR9MEK0', 'name': 'slackbot', 'deleted': False, 'color': '757575', 'real_name': 'slackbot', 'tz': None, 'tz_label': 'Pacific Daylight Time', 'tz_offset': -25200, 'profile': {'first_name': 'slackbot', 'last_name': '', 'image_24': 'https://a.slack-edge.com/0180/img/slackbot_24.png', 'image_32': 'https://a.slack-edge.com/2fac/plugins/slackbot/assets/service_32.png', 'image_48': 'https://a.slack-edge.com/2fac/plugins/slackbot/assets/service_48.png', 'image_72': 'https://a.slack-edge.com/0180/img/slackbot_72.png', 'image_192': 'https://a.slack-edge.com/66f9/img/slackbot_192.png', 'image_512': 'https://a.slack-edge.com/1801/img/slackbot_512.png', 'avatar_hash': 'sv1444671949', 'always_active': True, 'real_name': 'slackbot', 'real_name_normalized': 'slackbot', 'fields': None}, 'is_admin': False, 'is_owner': False, 'is_primary_owner': False, 'is_restricted': False, 'is_ultra_restricted': False, 'is_bot': False, 'updated': 0}]\n"
     ]
    }
   ],
   "source": [
    "if __name__ == \"__main__\":\n",
    "    api_call = slack_client.api_call(\"users.list\")\n",
    "    if api_call.get('ok'):\n",
    "        # retrieve all users so we can find our bot\n",
    "        print('yes')\n",
    "        users = api_call.get('members')\n",
    "        print(users)\n",
    "        for user in users:\n",
    "            if 'name' in user and user.get('name') == botname:\n",
    "                print(\"Bot ID for '\" + user['name'] + \"' is \" + user.get('id'))\n",
    "    else:\n",
    "        print(\"could not find bot user with the name \" + botname)"
   ]
  },
  {
   "cell_type": "code",
   "execution_count": null,
   "metadata": {
    "collapsed": true
   },
   "outputs": [],
   "source": []
  }
 ],
 "metadata": {
  "kernelspec": {
   "display_name": "Python 3",
   "language": "python",
   "name": "python3"
  },
  "language_info": {
   "codemirror_mode": {
    "name": "ipython",
    "version": 3
   },
   "file_extension": ".py",
   "mimetype": "text/x-python",
   "name": "python",
   "nbconvert_exporter": "python",
   "pygments_lexer": "ipython3",
   "version": "3.6.0"
  }
 },
 "nbformat": 4,
 "nbformat_minor": 2
}
