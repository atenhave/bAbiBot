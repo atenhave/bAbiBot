{
 "cells": [
  {
   "cell_type": "code",
   "execution_count": 1,
   "metadata": {
    "collapsed": false
   },
   "outputs": [
    {
     "name": "stderr",
     "output_type": "stream",
     "text": [
      "Using TensorFlow backend.\n"
     ]
    }
   ],
   "source": [
    "import re\n",
    "from nltk.tokenize import word_tokenize\n",
    "from keras.preprocessing.sequence import pad_sequences\n",
    "import numpy as np"
   ]
  },
  {
   "cell_type": "code",
   "execution_count": 2,
   "metadata": {
    "collapsed": true
   },
   "outputs": [],
   "source": [
    "def tokenize(sent):\n",
    "    return [x.strip() for x in re.split('(\\W+)?', sent) if x.strip()]"
   ]
  },
  {
   "cell_type": "code",
   "execution_count": 3,
   "metadata": {
    "collapsed": true
   },
   "outputs": [],
   "source": [
    "# Vectorize the text\n",
    "# Convert Subtext, Questions to Vector Form\n",
    "def vectorize_ques(data, word_id, test_max_length, ques_max_length):\n",
    "    X = []\n",
    "    Xq = []\n",
    "    for subtext, question in data:\n",
    "        x = [word_id[w] for w in subtext]\n",
    "        xq = [word_id[w] for w in question]\n",
    "        # let's not forget that index 0 is reserved\n",
    "        X.append(x)\n",
    "        Xq.append(xq)\n",
    "    return (pad_sequences(X, maxlen=test_max_length),\n",
    "            pad_sequences(Xq, maxlen=ques_max_length))"
   ]
  },
  {
   "cell_type": "code",
   "execution_count": 4,
   "metadata": {
    "collapsed": true
   },
   "outputs": [],
   "source": [
    "# Read the text files\n",
    "def read_text():\n",
    "    text = []\n",
    "    input_line = input('Story, Empty to stop: ')\n",
    "    while input_line != '':\n",
    "        # for now, lines have to be a full sentence\n",
    "        if not input_line.endswith('.'):\n",
    "            input_line += '.'\n",
    "        text.extend(tokenize(input_line))\n",
    "        input_line = input('Story, Empty to stop: ')\n",
    "    return text"
   ]
  },
  {
   "cell_type": "code",
   "execution_count": null,
   "metadata": {
    "collapsed": true
   },
   "outputs": [],
   "source": []
  }
 ],
 "metadata": {
  "kernelspec": {
   "display_name": "Python 3",
   "language": "python",
   "name": "python3"
  },
  "language_info": {
   "codemirror_mode": {
    "name": "ipython",
    "version": 3
   },
   "file_extension": ".py",
   "mimetype": "text/x-python",
   "name": "python",
   "nbconvert_exporter": "python",
   "pygments_lexer": "ipython3",
   "version": "3.6.0"
  }
 },
 "nbformat": 4,
 "nbformat_minor": 2
}
